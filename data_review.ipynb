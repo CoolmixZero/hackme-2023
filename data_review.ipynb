{
 "cells": [
  {
   "cell_type": "code",
   "execution_count": 1,
   "metadata": {},
   "outputs": [],
   "source": [
    "import pandas as pd"
   ]
  },
  {
   "cell_type": "code",
   "execution_count": 2,
   "metadata": {
    "pycharm": {
     "name": "#%%\n"
    }
   },
   "outputs": [],
   "source": [
    "dc_evt = pd.read_csv('data/dc_evt_modified2.csv', low_memory=False)\n",
    "dc_file = pd.read_csv('data/dc_file_modified2.csv', low_memory=False)\n",
    "dc_timeline = pd.read_csv('data/dc01-super-timeline.csv', low_memory=False)"
   ]
  },
  {
   "cell_type": "code",
   "execution_count": 3,
   "metadata": {},
   "outputs": [],
   "source": [
    "binary_col_file = [col for col in dc_file.columns if set(dc_file[col])|{0, 1} == {0, 1}]\n",
    "binary_col_evt = [col for col in dc_evt.columns if set(dc_evt[col])|{0, 1} == {0, 1}]"
   ]
  },
  {
   "cell_type": "code",
   "execution_count": 8,
   "metadata": {},
   "outputs": [],
   "source": [
    "bin_file_ag = dc_file[['inode']+binary_col_file].groupby('inode').sum()\n",
    "bin_evt_ag = dc_evt[['inode']+binary_col_evt].groupby('inode').sum()"
   ]
  },
  {
   "cell_type": "code",
   "execution_count": null,
   "metadata": {},
   "outputs": [],
   "source": [
    "from sklearn.neighbors import LocalOutlierFactor\n",
    "import numpy as np\n",
    "\n",
    "model = LocalOutlierFactor(n_neighbors=2, contamination='auto', n_jobs=-1)\n",
    "y_pred = model.fit_predict(bin_file_ag)\n",
    "np.where(y_pred == -1)[0], len(np.where(y_pred == -1)[0])"
   ]
  }
 ],
 "metadata": {
  "kernelspec": {
   "display_name": "Python 3",
   "language": "python",
   "name": "python3"
  },
  "language_info": {
   "codemirror_mode": {
    "name": "ipython",
    "version": 3
   },
   "file_extension": ".py",
   "mimetype": "text/x-python",
   "name": "python",
   "nbconvert_exporter": "python",
   "pygments_lexer": "ipython3",
   "version": "3.8.10"
  },
  "orig_nbformat": 4
 },
 "nbformat": 4,
 "nbformat_minor": 2
}
