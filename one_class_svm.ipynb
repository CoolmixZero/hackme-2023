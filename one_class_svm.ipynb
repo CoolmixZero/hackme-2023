{
 "cells": [
  {
   "cell_type": "code",
   "execution_count": null,
   "metadata": {
    "collapsed": true,
    "pycharm": {
     "name": "#%%\n"
    }
   },
   "outputs": [],
   "source": [
    "import pandas as pd\n",
    "import numpy as np\n",
    "from sklearn.svm import OneClassSVM\n",
    "dc_evt = pd.read_csv('data/dc_evt_modified2.csv', low_memory=False)\n",
    "dc_file = pd.read_csv('data/dc_file_modified2.csv', low_memory=False)\n",
    "binary_col_file = [col for col in dc_file.columns if set(dc_file[col])|{0, 1} == {0, 1}]\n",
    "binary_col_evt = [col for col in dc_evt.columns if set(dc_evt[col])|{0, 1} == {0, 1}]\n",
    "bin_file_ag = dc_file[['inode']+binary_col_file].groupby('inode').sum()\n",
    "bin_evt_ag = dc_evt[['inode']+binary_col_evt].groupby('inode').sum()\n",
    "model = OneClassSVM(kernel='rbf', nu=0.0004998348)\n",
    "model.fit(bin_file_ag)\n",
    "y_pred = model.predict(bin_file_ag)\n",
    "outliers = np.where(y_pred == -1)[0]\n",
    "num_outliers = len(outliers)\n",
    "\n",
    "outliers, num_outliers, len(bin_evt_ag)"
   ]
  }
 ],
 "metadata": {
  "kernelspec": {
   "display_name": "Python 3",
   "language": "python",
   "name": "python3"
  },
  "language_info": {
   "codemirror_mode": {
    "name": "ipython",
    "version": 2
   },
   "file_extension": ".py",
   "mimetype": "text/x-python",
   "name": "python",
   "nbconvert_exporter": "python",
   "pygments_lexer": "ipython2",
   "version": "2.7.6"
  }
 },
 "nbformat": 4,
 "nbformat_minor": 0
}