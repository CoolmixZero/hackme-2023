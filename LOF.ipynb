{
 "cells": [
  {
   "cell_type": "code",
   "execution_count": 4,
   "metadata": {
    "collapsed": false,
    "pycharm": {
     "name": "#%%\n"
    }
   },
   "outputs": [],
   "source": [
    "import pandas as pd\n",
    "\n",
    "dc_file = pd.read_csv('data/dc_file_modified2.csv', low_memory=False)"
   ]
  },
  {
   "cell_type": "code",
   "execution_count": 5,
   "metadata": {
    "collapsed": false,
    "pycharm": {
     "name": "#%%\n"
    }
   },
   "outputs": [],
   "source": [
    "binary_col_file = [col for col in dc_file.columns if set(dc_file[col]) | {0, 1} == {0, 1}]"
   ]
  },
  {
   "cell_type": "code",
   "execution_count": 6,
   "metadata": {
    "collapsed": false,
    "pycharm": {
     "name": "#%%\n"
    }
   },
   "outputs": [
    {
     "name": "stderr",
     "output_type": "stream",
     "text": [
      "/tmp/ipykernel_35815/1880067057.py:2: SettingWithCopyWarning: \n",
      "A value is trying to be set on a copy of a slice from a DataFrame.\n",
      "Try using .loc[row_indexer,col_indexer] = value instead\n",
      "\n",
      "See the caveats in the documentation: https://pandas.pydata.org/pandas-docs/stable/user_guide/indexing.html#returning-a-view-versus-a-copy\n",
      "  bin_file_ag['finode'] = bin_file_ag['inode'].astype(str) +\"-\"+ bin_file_ag[\"filename\"]\n"
     ]
    }
   ],
   "source": [
    "bin_file_ag = dc_file[['inode', 'filename']+binary_col_file]\n",
    "bin_file_ag['finode'] = bin_file_ag['inode'].astype(str) +\"-\"+ bin_file_ag[\"filename\"]\n",
    "bin_file_ag = bin_file_ag.drop(['inode'], axis=1)\n",
    "bin_file_ag = bin_file_ag.drop(['filename'], axis=1)\n",
    "bin_file_ag = bin_file_ag.groupby('finode').sum()"
   ]
  },
  {
   "cell_type": "code",
   "execution_count": 7,
   "metadata": {
    "collapsed": false,
    "pycharm": {
     "name": "#%%\n"
    }
   },
   "outputs": [
    {
     "data": {
      "text/plain": [
       "29"
      ]
     },
     "execution_count": 7,
     "metadata": {},
     "output_type": "execute_result"
    }
   ],
   "source": [
    "from sklearn.neighbors import LocalOutlierFactor\n",
    "import numpy as np\n",
    "\n",
    "model = LocalOutlierFactor(n_neighbors=2, contamination='auto', n_jobs=-1)\n",
    "y_pred = model.fit_predict(bin_file_ag)\n",
    "output = np.where(y_pred == -1)[0]\n",
    "len(output)"
   ]
  },
  {
   "cell_type": "code",
   "execution_count": 8,
   "metadata": {
    "collapsed": false,
    "pycharm": {
     "name": "#%%\n"
    }
   },
   "outputs": [
    {
     "data": {
      "text/plain": [
       "array([     0,      1,   1124,  11005,  23791,  27267,  29815,  34109,\n",
       "        36992,  39436,  88068, 107786, 107790, 107791, 108026, 108029,\n",
       "       108152, 108254, 108301, 109267, 110322, 110325, 110326, 110450,\n",
       "       110458, 110471, 110475, 110504, 110519])"
      ]
     },
     "execution_count": 8,
     "metadata": {},
     "output_type": "execute_result"
    }
   ],
   "source": [
    "output"
   ]
  }
 ],
 "metadata": {
  "kernelspec": {
   "display_name": "Python 3",
   "language": "python",
   "name": "python3"
  },
  "language_info": {
   "codemirror_mode": {
    "name": "ipython",
    "version": 3
   },
   "file_extension": ".py",
   "mimetype": "text/x-python",
   "name": "python",
   "nbconvert_exporter": "python",
   "pygments_lexer": "ipython3",
   "version": "3.8.10"
  },
  "orig_nbformat": 4
 },
 "nbformat": 4,
 "nbformat_minor": 2
}
