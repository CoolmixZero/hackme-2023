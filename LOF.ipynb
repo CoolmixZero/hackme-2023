{
 "cells": [
  {
   "cell_type": "code",
   "execution_count": 127,
   "outputs": [],
   "source": [
    "import pandas as pd\n",
    "\n",
    "dc_file = pd.read_csv('data/dc_file_modified2.csv', low_memory=False)"
   ],
   "metadata": {
    "collapsed": false,
    "pycharm": {
     "name": "#%%\n"
    }
   }
  },
  {
   "cell_type": "code",
   "execution_count": 128,
   "outputs": [],
   "source": [
    "binary_col_file = [col for col in dc_file.columns if set(dc_file[col]) | {0, 1} == {0, 1}]"
   ],
   "metadata": {
    "collapsed": false,
    "pycharm": {
     "name": "#%%\n"
    }
   }
  },
  {
   "cell_type": "code",
   "execution_count": 129,
   "outputs": [],
   "source": [
    "bin_file_ag = dc_file[['inode']+binary_col_file].groupby('inode').sum()\n",
    "bin_file_ag = bin_file_ag.groupby('inode').sum()"
   ],
   "metadata": {
    "collapsed": false,
    "pycharm": {
     "name": "#%%\n"
    }
   }
  },
  {
   "cell_type": "code",
   "execution_count": 130,
   "outputs": [
    {
     "data": {
      "text/plain": "40"
     },
     "execution_count": 130,
     "metadata": {},
     "output_type": "execute_result"
    }
   ],
   "source": [
    "from sklearn.neighbors import LocalOutlierFactor\n",
    "import numpy as np\n",
    "\n",
    "model = LocalOutlierFactor(n_neighbors=2, contamination='auto', n_jobs=-1)\n",
    "y_pred = model.fit_predict(bin_file_ag)\n",
    "output = np.where(y_pred == -1)[0]\n",
    "len(output)"
   ],
   "metadata": {
    "collapsed": false,
    "pycharm": {
     "name": "#%%\n"
    }
   }
  },
  {
   "cell_type": "code",
   "execution_count": 131,
   "outputs": [
    {
     "data": {
      "text/plain": "array([    0,     1,    21,    22,    24,    33,    73,   100,   122,\n         123,   144,   152,   394, 19601, 19602, 19630, 28605, 34626,\n       72190, 72205, 72551, 74746, 75604, 78288, 83529, 83533, 83743,\n       83746, 83857, 83947, 83988, 85800, 85802, 85803, 85913, 85920,\n       85930, 85934, 85960, 85974], dtype=int64)"
     },
     "execution_count": 131,
     "metadata": {},
     "output_type": "execute_result"
    }
   ],
   "source": [
    "output"
   ],
   "metadata": {
    "collapsed": false,
    "pycharm": {
     "name": "#%%\n"
    }
   }
  },
  {
   "cell_type": "code",
   "execution_count": 131,
   "outputs": [],
   "source": [],
   "metadata": {
    "collapsed": false,
    "pycharm": {
     "name": "#%%\n"
    }
   }
  }
 ],
 "metadata": {
  "kernelspec": {
   "display_name": "Python 3",
   "language": "python",
   "name": "python3"
  },
  "language_info": {
   "codemirror_mode": {
    "name": "ipython",
    "version": 3
   },
   "file_extension": ".py",
   "mimetype": "text/x-python",
   "name": "python",
   "nbconvert_exporter": "python",
   "pygments_lexer": "ipython3",
   "version": "3.8.10"
  },
  "orig_nbformat": 4
 },
 "nbformat": 4,
 "nbformat_minor": 2
}